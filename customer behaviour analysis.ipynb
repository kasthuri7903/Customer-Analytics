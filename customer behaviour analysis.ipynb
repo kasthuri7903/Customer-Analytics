{
 "cells": [
  {
   "cell_type": "markdown",
   "id": "c96ed3af-cab2-4383-8d5a-acc524251662",
   "metadata": {},
   "source": [
    "# Customer Behavioral Analysis to Improve Conversion Rates\n",
    "\n",
    "## Introduction\n",
    "In this project, I aim to understand customer behavior to improve conversion rates and total purchases. Using a dataset that includes customer demographics, browsing behavior, and purchasing habits, we will explore the key factors driving or hindering sales.\n",
    "\n",
    "The main objectives are:\n",
    "1. Understand how customer demographics (age, gender, location) influence purchasing decisions.\n",
    "2. Identify key behavioral patterns (e.g., device type, browsing time) that correlate with purchases.\n"
   ]
  },
  {
   "cell_type": "code",
   "execution_count": 1,
   "id": "b6114249-d8b5-4c68-8795-bfeebb671114",
   "metadata": {},
   "outputs": [],
   "source": [
    "import pandas as pd\n",
    "import numpy as np\n",
    "import matplotlib.pyplot as plt\n",
    "import seaborn as sns"
   ]
  },
  {
   "cell_type": "code",
   "execution_count": 2,
   "id": "4ac817c7-d0f1-47fa-8cd4-7b615103ee66",
   "metadata": {},
   "outputs": [],
   "source": [
    "import warnings\n",
    "\n",
    "# Suppress all warnings\n",
    "warnings.filterwarnings('ignore')\n"
   ]
  },
  {
   "cell_type": "code",
   "execution_count": 3,
   "id": "77d5c46d-562d-4904-9888-f5729dcb9797",
   "metadata": {},
   "outputs": [],
   "source": [
    "df = pd.read_csv(\"D:\\ML\\CustomerSpectra\\customerdata.csv\")"
   ]
  },
  {
   "cell_type": "code",
   "execution_count": 4,
   "id": "db0375eb-67a8-44e3-865e-cd8d92b79048",
   "metadata": {},
   "outputs": [
    {
     "data": {
      "text/html": [
       "<div>\n",
       "<style scoped>\n",
       "    .dataframe tbody tr th:only-of-type {\n",
       "        vertical-align: middle;\n",
       "    }\n",
       "\n",
       "    .dataframe tbody tr th {\n",
       "        vertical-align: top;\n",
       "    }\n",
       "\n",
       "    .dataframe thead th {\n",
       "        text-align: right;\n",
       "    }\n",
       "</style>\n",
       "<table border=\"1\" class=\"dataframe\">\n",
       "  <thead>\n",
       "    <tr style=\"text-align: right;\">\n",
       "      <th></th>\n",
       "      <th>User_ID</th>\n",
       "      <th>Gender</th>\n",
       "      <th>Age</th>\n",
       "      <th>Location</th>\n",
       "      <th>Device_Type</th>\n",
       "      <th>Product_Browsing_Time</th>\n",
       "      <th>Total_Pages_Viewed</th>\n",
       "      <th>Items_Added_to_Cart</th>\n",
       "      <th>Total_Purchases</th>\n",
       "    </tr>\n",
       "  </thead>\n",
       "  <tbody>\n",
       "    <tr>\n",
       "      <th>0</th>\n",
       "      <td>1</td>\n",
       "      <td>Female</td>\n",
       "      <td>23</td>\n",
       "      <td>Ahmedabad</td>\n",
       "      <td>Mobile</td>\n",
       "      <td>60</td>\n",
       "      <td>30</td>\n",
       "      <td>1</td>\n",
       "      <td>0</td>\n",
       "    </tr>\n",
       "  </tbody>\n",
       "</table>\n",
       "</div>"
      ],
      "text/plain": [
       "   User_ID  Gender  Age   Location Device_Type  Product_Browsing_Time  \\\n",
       "0        1  Female   23  Ahmedabad      Mobile                     60   \n",
       "\n",
       "   Total_Pages_Viewed  Items_Added_to_Cart  Total_Purchases  \n",
       "0                  30                    1                0  "
      ]
     },
     "execution_count": 4,
     "metadata": {},
     "output_type": "execute_result"
    }
   ],
   "source": [
    "df.head(1)"
   ]
  },
  {
   "cell_type": "markdown",
   "id": "fd74edcf-af57-4319-92f9-650e0d8caf42",
   "metadata": {},
   "source": [
    "### Dataset Description\n",
    "- **User_ID**: Unique identifier for each customer.\n",
    "- **Gender**: Male/Female.\n",
    "- **Age**: Age of the customer.\n",
    "- **Location**: Customer's region.\n",
    "- **Device_Type**: Mobile/Desktop.\n",
    "- **Product_Browsing_Time**: Total browsing time spent by the customer.\n",
    "- **Total_Pages_Viewed**: Number of pages the customer viewed.\n",
    "- **Items_Added_to_Cart**: Number of items added to the cart.\n",
    "- **Total_Purchases**: Number of purchases made.\n"
   ]
  },
  {
   "cell_type": "code",
   "execution_count": 5,
   "id": "1e8d7887-7d4a-44b6-b9c1-b7ec2962141b",
   "metadata": {},
   "outputs": [
    {
     "data": {
      "text/html": [
       "<div>\n",
       "<style scoped>\n",
       "    .dataframe tbody tr th:only-of-type {\n",
       "        vertical-align: middle;\n",
       "    }\n",
       "\n",
       "    .dataframe tbody tr th {\n",
       "        vertical-align: top;\n",
       "    }\n",
       "\n",
       "    .dataframe thead th {\n",
       "        text-align: right;\n",
       "    }\n",
       "</style>\n",
       "<table border=\"1\" class=\"dataframe\">\n",
       "  <thead>\n",
       "    <tr style=\"text-align: right;\">\n",
       "      <th></th>\n",
       "      <th>User_ID</th>\n",
       "      <th>Age</th>\n",
       "      <th>Product_Browsing_Time</th>\n",
       "      <th>Total_Pages_Viewed</th>\n",
       "      <th>Items_Added_to_Cart</th>\n",
       "      <th>Total_Purchases</th>\n",
       "    </tr>\n",
       "  </thead>\n",
       "  <tbody>\n",
       "    <tr>\n",
       "      <th>count</th>\n",
       "      <td>500.000000</td>\n",
       "      <td>500.000000</td>\n",
       "      <td>500.000000</td>\n",
       "      <td>500.000000</td>\n",
       "      <td>500.000000</td>\n",
       "      <td>500.000000</td>\n",
       "    </tr>\n",
       "    <tr>\n",
       "      <th>mean</th>\n",
       "      <td>250.500000</td>\n",
       "      <td>26.276000</td>\n",
       "      <td>30.740000</td>\n",
       "      <td>27.182000</td>\n",
       "      <td>5.150000</td>\n",
       "      <td>2.464000</td>\n",
       "    </tr>\n",
       "    <tr>\n",
       "      <th>std</th>\n",
       "      <td>144.481833</td>\n",
       "      <td>5.114699</td>\n",
       "      <td>15.934246</td>\n",
       "      <td>13.071596</td>\n",
       "      <td>3.203127</td>\n",
       "      <td>1.740909</td>\n",
       "    </tr>\n",
       "    <tr>\n",
       "      <th>min</th>\n",
       "      <td>1.000000</td>\n",
       "      <td>18.000000</td>\n",
       "      <td>5.000000</td>\n",
       "      <td>5.000000</td>\n",
       "      <td>0.000000</td>\n",
       "      <td>0.000000</td>\n",
       "    </tr>\n",
       "    <tr>\n",
       "      <th>25%</th>\n",
       "      <td>125.750000</td>\n",
       "      <td>22.000000</td>\n",
       "      <td>16.000000</td>\n",
       "      <td>16.000000</td>\n",
       "      <td>2.000000</td>\n",
       "      <td>1.000000</td>\n",
       "    </tr>\n",
       "    <tr>\n",
       "      <th>50%</th>\n",
       "      <td>250.500000</td>\n",
       "      <td>26.000000</td>\n",
       "      <td>31.000000</td>\n",
       "      <td>27.000000</td>\n",
       "      <td>5.000000</td>\n",
       "      <td>2.000000</td>\n",
       "    </tr>\n",
       "    <tr>\n",
       "      <th>75%</th>\n",
       "      <td>375.250000</td>\n",
       "      <td>31.000000</td>\n",
       "      <td>44.000000</td>\n",
       "      <td>38.000000</td>\n",
       "      <td>8.000000</td>\n",
       "      <td>4.000000</td>\n",
       "    </tr>\n",
       "    <tr>\n",
       "      <th>max</th>\n",
       "      <td>500.000000</td>\n",
       "      <td>35.000000</td>\n",
       "      <td>60.000000</td>\n",
       "      <td>50.000000</td>\n",
       "      <td>10.000000</td>\n",
       "      <td>5.000000</td>\n",
       "    </tr>\n",
       "  </tbody>\n",
       "</table>\n",
       "</div>"
      ],
      "text/plain": [
       "          User_ID         Age  Product_Browsing_Time  Total_Pages_Viewed  \\\n",
       "count  500.000000  500.000000             500.000000          500.000000   \n",
       "mean   250.500000   26.276000              30.740000           27.182000   \n",
       "std    144.481833    5.114699              15.934246           13.071596   \n",
       "min      1.000000   18.000000               5.000000            5.000000   \n",
       "25%    125.750000   22.000000              16.000000           16.000000   \n",
       "50%    250.500000   26.000000              31.000000           27.000000   \n",
       "75%    375.250000   31.000000              44.000000           38.000000   \n",
       "max    500.000000   35.000000              60.000000           50.000000   \n",
       "\n",
       "       Items_Added_to_Cart  Total_Purchases  \n",
       "count           500.000000       500.000000  \n",
       "mean              5.150000         2.464000  \n",
       "std               3.203127         1.740909  \n",
       "min               0.000000         0.000000  \n",
       "25%               2.000000         1.000000  \n",
       "50%               5.000000         2.000000  \n",
       "75%               8.000000         4.000000  \n",
       "max              10.000000         5.000000  "
      ]
     },
     "execution_count": 5,
     "metadata": {},
     "output_type": "execute_result"
    }
   ],
   "source": [
    "df.describe()"
   ]
  },
  {
   "cell_type": "code",
   "execution_count": 6,
   "id": "4eff0bb8-55e8-4bab-b5c5-84a6143e95e6",
   "metadata": {},
   "outputs": [
    {
     "name": "stdout",
     "output_type": "stream",
     "text": [
      "<class 'pandas.core.frame.DataFrame'>\n",
      "RangeIndex: 500 entries, 0 to 499\n",
      "Data columns (total 9 columns):\n",
      " #   Column                 Non-Null Count  Dtype \n",
      "---  ------                 --------------  ----- \n",
      " 0   User_ID                500 non-null    int64 \n",
      " 1   Gender                 500 non-null    object\n",
      " 2   Age                    500 non-null    int64 \n",
      " 3   Location               500 non-null    object\n",
      " 4   Device_Type            500 non-null    object\n",
      " 5   Product_Browsing_Time  500 non-null    int64 \n",
      " 6   Total_Pages_Viewed     500 non-null    int64 \n",
      " 7   Items_Added_to_Cart    500 non-null    int64 \n",
      " 8   Total_Purchases        500 non-null    int64 \n",
      "dtypes: int64(6), object(3)\n",
      "memory usage: 35.3+ KB\n"
     ]
    }
   ],
   "source": [
    "df.info()"
   ]
  },
  {
   "cell_type": "code",
   "execution_count": 7,
   "id": "f4e9e8c6-60b0-4ca4-82a7-03e5633ec135",
   "metadata": {},
   "outputs": [
    {
     "data": {
      "text/plain": [
       "User_ID                  0\n",
       "Gender                   0\n",
       "Age                      0\n",
       "Location                 0\n",
       "Device_Type              0\n",
       "Product_Browsing_Time    0\n",
       "Total_Pages_Viewed       0\n",
       "Items_Added_to_Cart      0\n",
       "Total_Purchases          0\n",
       "dtype: int64"
      ]
     },
     "execution_count": 7,
     "metadata": {},
     "output_type": "execute_result"
    }
   ],
   "source": [
    "df.isnull().sum()"
   ]
  },
  {
   "cell_type": "markdown",
   "id": "56ca858c-d485-431b-a656-26e6ac7a3a02",
   "metadata": {},
   "source": [
    "### Correlation Matrix\n",
    "A correlation matrix helps us understand the relationship between different variables in our dataset. The values range from -1 to 1:\n",
    "- A value close to 1 means a strong positive correlation (as one variable increases, the other also increases).\n",
    "- A value close to -1 means a strong negative correlation (as one variable increases, the other decreases).\n",
    "- A value near 0 indicates no correlation.\n",
    "\n",
    "We will now calculate the correlation between the key variables like browsing time, pages viewed, items added to the cart, and total purchases.\n"
   ]
  },
  {
   "cell_type": "code",
   "execution_count": 8,
   "id": "4e13def7-672e-427d-8041-0e3898a302ef",
   "metadata": {},
   "outputs": [
    {
     "data": {
      "image/png": "[encoded data removed]",
      "text/plain": [
       "<Figure size 800x600 with 2 Axes>"
      ]
     },
     "metadata": {},
     "output_type": "display_data"
    }
   ],
   "source": [
    "import seaborn as sns\n",
    "import matplotlib.pyplot as plt\n",
    "\n",
    "# Calculate the correlation matrix\n",
    "corr_matrix = df[['Product_Browsing_Time', 'Total_Pages_Viewed', 'Items_Added_to_Cart', 'Total_Purchases']].corr()\n",
    "\n",
    "# Plot the heatmap\n",
    "plt.figure(figsize=(8, 6))\n",
    "sns.heatmap(corr_matrix, annot=True, vmin=-1, vmax=1)\n",
    "plt.title('Correlation Matrix of Key Variables')\n",
    "plt.show()\n"
   ]
  },
  {
   "cell_type": "markdown",
   "id": "b6caa576-1cb5-49fd-b6de-81ad08560653",
   "metadata": {
    "jp-MarkdownHeadingCollapsed": true
   },
   "source": [
    "# Hypothesis 1: Mobile Users Have Longer Browsing Times but Fewer Purchases"
   ]
  },
  {
   "cell_type": "code",
   "execution_count": 9,
   "id": "102280e3-f693-498e-8c64-ccaefe2d9f98",
   "metadata": {},
   "outputs": [
    {
     "data": {
      "text/html": [
       "<div>\n",
       "<style scoped>\n",
       "    .dataframe tbody tr th:only-of-type {\n",
       "        vertical-align: middle;\n",
       "    }\n",
       "\n",
       "    .dataframe tbody tr th {\n",
       "        vertical-align: top;\n",
       "    }\n",
       "\n",
       "    .dataframe thead th {\n",
       "        text-align: right;\n",
       "    }\n",
       "</style>\n",
       "<table border=\"1\" class=\"dataframe\">\n",
       "  <thead>\n",
       "    <tr style=\"text-align: right;\">\n",
       "      <th></th>\n",
       "      <th>Product_Browsing_Time</th>\n",
       "      <th>Total_Purchases</th>\n",
       "    </tr>\n",
       "    <tr>\n",
       "      <th>Device_Type</th>\n",
       "      <th></th>\n",
       "      <th></th>\n",
       "    </tr>\n",
       "  </thead>\n",
       "  <tbody>\n",
       "    <tr>\n",
       "      <th>Desktop</th>\n",
       "      <td>29.830189</td>\n",
       "      <td>2.396226</td>\n",
       "    </tr>\n",
       "    <tr>\n",
       "      <th>Mobile</th>\n",
       "      <td>30.668539</td>\n",
       "      <td>2.533708</td>\n",
       "    </tr>\n",
       "    <tr>\n",
       "      <th>Tablet</th>\n",
       "      <td>31.705521</td>\n",
       "      <td>2.453988</td>\n",
       "    </tr>\n",
       "  </tbody>\n",
       "</table>\n",
       "</div>"
      ],
      "text/plain": [
       "             Product_Browsing_Time  Total_Purchases\n",
       "Device_Type                                        \n",
       "Desktop                  29.830189         2.396226\n",
       "Mobile                   30.668539         2.533708\n",
       "Tablet                   31.705521         2.453988"
      ]
     },
     "execution_count": 9,
     "metadata": {},
     "output_type": "execute_result"
    }
   ],
   "source": [
    "device_group = df.groupby('Device_Type')[['Product_Browsing_Time', 'Total_Purchases']].mean()\n",
    "device_group"
   ]
  },
  {
   "cell_type": "markdown",
   "id": "7a2665f9-8f37-4398-913c-873285f7b883",
   "metadata": {},
   "source": [
    "**Interpretation:**\n",
    "- Mobile users have a higher average browsing time (30.67 minutes) and more purchases (2.53) compared to desktop users (29.83 minutes and 2.40 purchases).\n",
    "- Tablets have the highest browsing time (31.71 minutes) and moderate purchases (2.45).\n",
    "\n",
    "**Business Insight:**\n",
    "- The hypothesis is **not supported**. Mobile users browse more and also make more purchases compared to desktops.\n",
    "- **Action**: Enhance the desktop experience to boost engagement "
   ]
  },
  {
   "cell_type": "markdown",
   "id": "8db5ad85-8165-434c-b2f9-409a83c01bf2",
   "metadata": {},
   "source": [
    "### why mobile users are converting better?"
   ]
  },
  {
   "cell_type": "code",
   "execution_count": 10,
   "id": "06177f8b-91a7-4cc9-bca4-45b5ebb098c2",
   "metadata": {},
   "outputs": [
    {
     "data": {
      "text/plain": [
       "Device_Type\n",
       "Mobile     178\n",
       "Tablet     163\n",
       "Desktop    159\n",
       "Name: count, dtype: int64"
      ]
     },
     "execution_count": 10,
     "metadata": {},
     "output_type": "execute_result"
    }
   ],
   "source": [
    "df[\"Device_Type\"].value_counts()"
   ]
  },
  {
   "cell_type": "markdown",
   "id": "2e15aecc-7df8-4652-8db5-88a164a36ff3",
   "metadata": {},
   "source": [
    "- because most people have mobile \n",
    "- Even though the tablet has high browsing time it is not as convenient as mobile due to its size or easy payment methods(refering latency here)"
   ]
  },
  {
   "cell_type": "markdown",
   "id": "9dc210be-fb51-44f8-8cc0-6a12b82303a4",
   "metadata": {
    "jp-MarkdownHeadingCollapsed": true
   },
   "source": [
    "# Hypothesis 2: Younger Customers Browse More but Purchase Less"
   ]
  },
  {
   "cell_type": "code",
   "execution_count": 11,
   "id": "f3c449ec-e379-4d3a-a52e-110a03d66b89",
   "metadata": {},
   "outputs": [],
   "source": [
    "age_group = df.groupby('Age')[['Product_Browsing_Time', 'Total_Purchases']].mean()"
   ]
  },
  {
   "cell_type": "code",
   "execution_count": 12,
   "id": "2f4d9640-fbff-416f-bb00-fd0b424a24ac",
   "metadata": {},
   "outputs": [],
   "source": [
    "age_group_df = pd.DataFrame(age_group)"
   ]
  },
  {
   "cell_type": "code",
   "execution_count": 13,
   "id": "3f005b20-df81-4ae1-bfa9-6b41270766a5",
   "metadata": {},
   "outputs": [
    {
     "data": {
      "text/html": [
       "<div>\n",
       "<style scoped>\n",
       "    .dataframe tbody tr th:only-of-type {\n",
       "        vertical-align: middle;\n",
       "    }\n",
       "\n",
       "    .dataframe tbody tr th {\n",
       "        vertical-align: top;\n",
       "    }\n",
       "\n",
       "    .dataframe thead th {\n",
       "        text-align: right;\n",
       "    }\n",
       "</style>\n",
       "<table border=\"1\" class=\"dataframe\">\n",
       "  <thead>\n",
       "    <tr style=\"text-align: right;\">\n",
       "      <th></th>\n",
       "      <th>Product_Browsing_Time</th>\n",
       "      <th>Total_Purchases</th>\n",
       "    </tr>\n",
       "    <tr>\n",
       "      <th>Age</th>\n",
       "      <th></th>\n",
       "      <th></th>\n",
       "    </tr>\n",
       "  </thead>\n",
       "  <tbody>\n",
       "    <tr>\n",
       "      <th>18</th>\n",
       "      <td>33.034483</td>\n",
       "      <td>2.862069</td>\n",
       "    </tr>\n",
       "    <tr>\n",
       "      <th>19</th>\n",
       "      <td>34.653846</td>\n",
       "      <td>2.615385</td>\n",
       "    </tr>\n",
       "    <tr>\n",
       "      <th>20</th>\n",
       "      <td>28.375000</td>\n",
       "      <td>2.750000</td>\n",
       "    </tr>\n",
       "    <tr>\n",
       "      <th>21</th>\n",
       "      <td>28.861111</td>\n",
       "      <td>2.305556</td>\n",
       "    </tr>\n",
       "    <tr>\n",
       "      <th>22</th>\n",
       "      <td>28.300000</td>\n",
       "      <td>2.766667</td>\n",
       "    </tr>\n",
       "    <tr>\n",
       "      <th>23</th>\n",
       "      <td>34.656250</td>\n",
       "      <td>2.218750</td>\n",
       "    </tr>\n",
       "    <tr>\n",
       "      <th>24</th>\n",
       "      <td>32.280000</td>\n",
       "      <td>2.600000</td>\n",
       "    </tr>\n",
       "    <tr>\n",
       "      <th>25</th>\n",
       "      <td>32.888889</td>\n",
       "      <td>1.962963</td>\n",
       "    </tr>\n",
       "    <tr>\n",
       "      <th>26</th>\n",
       "      <td>34.111111</td>\n",
       "      <td>2.888889</td>\n",
       "    </tr>\n",
       "    <tr>\n",
       "      <th>27</th>\n",
       "      <td>30.687500</td>\n",
       "      <td>2.312500</td>\n",
       "    </tr>\n",
       "    <tr>\n",
       "      <th>28</th>\n",
       "      <td>26.071429</td>\n",
       "      <td>2.357143</td>\n",
       "    </tr>\n",
       "    <tr>\n",
       "      <th>29</th>\n",
       "      <td>32.885714</td>\n",
       "      <td>2.200000</td>\n",
       "    </tr>\n",
       "    <tr>\n",
       "      <th>30</th>\n",
       "      <td>26.260870</td>\n",
       "      <td>2.000000</td>\n",
       "    </tr>\n",
       "    <tr>\n",
       "      <th>31</th>\n",
       "      <td>31.615385</td>\n",
       "      <td>2.923077</td>\n",
       "    </tr>\n",
       "    <tr>\n",
       "      <th>32</th>\n",
       "      <td>31.071429</td>\n",
       "      <td>2.071429</td>\n",
       "    </tr>\n",
       "    <tr>\n",
       "      <th>33</th>\n",
       "      <td>29.850000</td>\n",
       "      <td>3.200000</td>\n",
       "    </tr>\n",
       "    <tr>\n",
       "      <th>34</th>\n",
       "      <td>23.727273</td>\n",
       "      <td>2.454545</td>\n",
       "    </tr>\n",
       "    <tr>\n",
       "      <th>35</th>\n",
       "      <td>31.300000</td>\n",
       "      <td>2.233333</td>\n",
       "    </tr>\n",
       "  </tbody>\n",
       "</table>\n",
       "</div>"
      ],
      "text/plain": [
       "     Product_Browsing_Time  Total_Purchases\n",
       "Age                                        \n",
       "18               33.034483         2.862069\n",
       "19               34.653846         2.615385\n",
       "20               28.375000         2.750000\n",
       "21               28.861111         2.305556\n",
       "22               28.300000         2.766667\n",
       "23               34.656250         2.218750\n",
       "24               32.280000         2.600000\n",
       "25               32.888889         1.962963\n",
       "26               34.111111         2.888889\n",
       "27               30.687500         2.312500\n",
       "28               26.071429         2.357143\n",
       "29               32.885714         2.200000\n",
       "30               26.260870         2.000000\n",
       "31               31.615385         2.923077\n",
       "32               31.071429         2.071429\n",
       "33               29.850000         3.200000\n",
       "34               23.727273         2.454545\n",
       "35               31.300000         2.233333"
      ]
     },
     "execution_count": 13,
     "metadata": {},
     "output_type": "execute_result"
    }
   ],
   "source": [
    "age_group_df"
   ]
  },
  {
   "cell_type": "markdown",
   "id": "d53b9cc8-0aaa-49c6-b1bf-f938c4dd3ce4",
   "metadata": {},
   "source": [
    "* Bar Plot: Each age group will have a blue bar showing the average time spent browsing products.\n",
    "* Line Plot: A red line will show the average number of purchases made by users in each age group.\n",
    "* Y-Axis Labels: The left y-axis will show the browsing time in minutes, and the right y-axis will show the number of purchases.\n",
    "* X-Axis: Age groups will be labeled for comparison."
   ]
  },
  {
   "cell_type": "code",
   "execution_count": 14,
   "id": "c9c3c6ed-56c7-4b01-b2cb-2d4fbd33ffa1",
   "metadata": {},
   "outputs": [
    {
     "name": "stdout",
     "output_type": "stream",
     "text": [
      "     Product_Browsing_Time  Total_Purchases\n",
      "Age                                        \n",
      "18               33.034483         2.862069\n",
      "19               34.653846         2.615385\n",
      "20               28.375000         2.750000\n",
      "21               28.861111         2.305556\n",
      "22               28.300000         2.766667\n",
      "23               34.656250         2.218750\n",
      "24               32.280000         2.600000\n",
      "25               32.888889         1.962963\n",
      "26               34.111111         2.888889\n",
      "27               30.687500         2.312500\n",
      "28               26.071429         2.357143\n",
      "29               32.885714         2.200000\n",
      "30               26.260870         2.000000\n",
      "31               31.615385         2.923077\n",
      "32               31.071429         2.071429\n",
      "33               29.850000         3.200000\n",
      "34               23.727273         2.454545\n",
      "35               31.300000         2.233333\n"
     ]
    }
   ],
   "source": [
    "# Print the DataFrame to check the results\n",
    "print(age_group_df)\n"
   ]
  },
  {
   "cell_type": "code",
   "execution_count": 15,
   "id": "d64f96f6-9fd7-4cd1-b77a-edc95cfa3c2a",
   "metadata": {},
   "outputs": [
    {
     "name": "stdout",
     "output_type": "stream",
     "text": [
      "   Age_Group  Product_Browsing_Time  Total_Purchases\n",
      "4   Under 20              33.844165         2.738727\n",
      "0  Early 20s              30.494472         2.528195\n",
      "2    Mid 20s              31.328929         2.344299\n",
      "1  Early 30s              28.504991         2.529810\n",
      "3    Mid 30s              31.300000         2.233333\n"
     ]
    },
    {
     "data": {
      "image/png": "[encoded data removed]",
      "text/plain": [
       "<Figure size 1200x600 with 2 Axes>"
      ]
     },
     "metadata": {},
     "output_type": "display_data"
    }
   ],
   "source": [
    "import pandas as pd\n",
    "import matplotlib.pyplot as plt\n",
    "\n",
    "# Define data\n",
    "data = {\n",
    "    'Age': [18, 19, 20, 21, 22, 23, 24, 25, 26, 27, 28, 29, 30, 31, 32, 33, 34, 35],\n",
    "    'Product_Browsing_Time': [33.034483, 34.653846, 28.375000, 28.861111, 28.300000, 34.656250, 32.280000, \n",
    "                              32.888889, 34.111111, 30.687500, 26.071429, 32.885714, 26.260870, 31.615385, \n",
    "                              31.071429, 29.850000, 23.727273, 31.300000],\n",
    "    'Total_Purchases': [2.862069, 2.615385, 2.750000, 2.305556, 2.766667, 2.218750, 2.600000, \n",
    "                        1.962963, 2.888889, 2.312500, 2.357143, 2.200000, 2.000000, 2.923077, \n",
    "                        2.071429, 3.200000, 2.454545, 2.233333]\n",
    "}\n",
    "\n",
    "# Create DataFrame\n",
    "data_df = pd.DataFrame(data)\n",
    "\n",
    "# Define age groups\n",
    "def age_group(age):\n",
    "    if age < 20:\n",
    "        return 'Under 20'\n",
    "    elif 20 <= age < 25:\n",
    "        return 'Early 20s'\n",
    "    elif 25 <= age < 30:\n",
    "        return 'Mid 20s'\n",
    "    elif 30 <= age < 35:\n",
    "        return 'Early 30s'\n",
    "    elif 35 <= age < 40:\n",
    "        return 'Mid 30s'\n",
    "    else:\n",
    "        return 'Late 30s'\n",
    "\n",
    "# Apply age group categorization\n",
    "data_df['Age_Group'] = data_df['Age'].apply(age_group)\n",
    "\n",
    "# Group by age group and calculate mean browsing time and purchases\n",
    "age_group_df = data_df.groupby('Age_Group').agg({\n",
    "    'Product_Browsing_Time': 'mean',\n",
    "    'Total_Purchases': 'mean'\n",
    "}).reset_index()\n",
    "\n",
    "# Set the order of age groups for consistent plotting\n",
    "age_group_order = ['Under 20', 'Early 20s', 'Mid 20s', 'Early 30s', 'Mid 30s', 'Late 30s']\n",
    "age_group_df['Age_Group'] = pd.Categorical(age_group_df['Age_Group'], categories=age_group_order, ordered=True)\n",
    "age_group_df = age_group_df.sort_values('Age_Group')\n",
    "\n",
    "# Print the DataFrame to check results\n",
    "print(age_group_df)\n",
    "\n",
    "# Plot average browsing time and purchases by age group\n",
    "fig, ax1 = plt.subplots(figsize=(12, 6))\n",
    "\n",
    "# Bar plot for average browsing time\n",
    "color = 'tab:blue'\n",
    "ax1.set_xlabel('Age Group')\n",
    "ax1.set_ylabel('Average Product Browsing Time (minutes)', color=color)\n",
    "bars = ax1.bar(age_group_df['Age_Group'], age_group_df['Product_Browsing_Time'], color=color, alpha=0.6, label='Average Browsing Time')\n",
    "ax1.tick_params(axis='y', labelcolor=color)\n",
    "ax1.set_xticklabels(age_group_df['Age_Group'], rotation=45)\n",
    "\n",
    "# Line plot for average purchases\n",
    "ax2 = ax1.twinx()  # instantiate a second axes that shares the same x-axis\n",
    "color = 'tab:red'\n",
    "ax2.set_ylabel('Average Total Purchases', color=color)\n",
    "line = ax2.plot(age_group_df['Age_Group'], age_group_df['Total_Purchases'], color=color, marker='o', label='Average Purchases')\n",
    "ax2.tick_params(axis='y', labelcolor=color)\n",
    "\n",
    "fig.tight_layout()  # otherwise the right y-label is slightly clipped\n",
    "plt.title('Average Product Browsing Time and Purchases by Age Group')\n",
    "plt.show()\n"
   ]
  },
  {
   "cell_type": "markdown",
   "id": "3723bf88-1564-40ac-8d5e-abc8d455d460",
   "metadata": {},
   "source": [
    "### Key Points:\n",
    "\n",
    "- **Younger Users (Under 20)**:\n",
    "  - Spend the most time browsing: 33.84 minutes.\n",
    "  - Make the most purchases: 2.74 on average.\n",
    "\n",
    "- **Early 20s Users**:\n",
    "  - Spend 30.49 minutes browsing.\n",
    "  - Make 2.53 purchases on average, which is less than Under 20s but still significant.\n",
    "\n",
    "- **Mid 20s Users**:\n",
    "  - Spend 31.33 minutes browsing.\n",
    "  - Make the fewest purchases: 2.34 on average.\n",
    "\n",
    "- **Early 30s Users**:\n",
    "  - Spend the least time browsing: 28.50 minutes.\n",
    "  - Make 2.53 purchases on average, similar to Early 20s users.\n",
    "\n",
    "- **Mid 30s Users**:\n",
    "  - Spend a lot of time browsing: 31.30 minutes.\n",
    "  - Make the fewest purchases: 2.23 on average.\n",
    "\n",
    "### Insights:\n",
    "\n",
    "- **Negative Correlation with Exceptions**: Generally, there is a negative correlation between browsing time and the number of purchases—more browsing time is associated with fewer purchases. For example, the Mid 30s users browse a lot but make fewer purchases. However, the Early 20s group is an exception where increased browsing time does not necessarily lead to fewer purchases.\n",
    "\n",
    "- **Early 20s Exception**: Despite browsing more (30.49 minutes), Early 20s users still make a considerable number of purchases (2.53), which is a notable exception to the general trend.\n",
    "\n",
    "- **Browsing Time vs. Purchases**: The overall trend suggests that more browsing time does not always lead to more purchases. For instance, while the Early 20s group manages to purchase well despite their browsing time, other age groups like Mid 30s show less purchasing activity with similar or greater browsing time.\n",
    "\n",
    "### Practical Takeaways:\n",
    "\n",
    "- **Target Younger Users**: Focus on Early 20s users, as they convert their browsing time into purchases better than other age groups.\n",
    "- **Optimize Browsing Efficiency**: For users like the Mid 30s who spend a lot of time browsing but purchase less, consider improving the browsing experience or refining conversion strategies to enhance purchase rates."
   ]
  },
  {
   "cell_type": "markdown",
   "id": "cc780369-5ffa-4877-935d-bd78579949f2",
   "metadata": {},
   "source": [
    "### Possible Reasons for Early 20s (Gen Z) Behavior\n",
    "\n",
    "1. **Comfort with Technology**: Gen Z users are very familiar with digital platforms, so they might browse and shop more effectively, even if they spend more time doing so.\n",
    "\n",
    "2. **Engagement with Content**: Early 20s users often interact more with engaging and personalized content, which can lead to more purchases despite longer browsing times.\n",
    "\n",
    "3. **Influence of Social Media**: Trends and recommendations from social media might encourage Early 20s users to make purchases more often, turning their browsing time into buying decisions.\n",
    "\n",
    "4. **Search for Value**: Users in their early 20s might spend more time looking for good deals and value, which can result in higher purchase rates even with extended browsing."
   ]
  },
  {
   "cell_type": "markdown",
   "id": "e3b674d6-4163-4c9c-8016-c72ffce8ab5d",
   "metadata": {
    "jp-MarkdownHeadingCollapsed": true
   },
   "source": [
    "# Hypothesis 3: High Page Views Don’t Translate into Purchases"
   ]
  },
  {
   "cell_type": "code",
   "execution_count": 16,
   "id": "45128f2e-c7ea-4947-a3ad-4ee0168935a9",
   "metadata": {},
   "outputs": [
    {
     "data": {
      "text/html": [
       "<div>\n",
       "<style scoped>\n",
       "    .dataframe tbody tr th:only-of-type {\n",
       "        vertical-align: middle;\n",
       "    }\n",
       "\n",
       "    .dataframe tbody tr th {\n",
       "        vertical-align: top;\n",
       "    }\n",
       "\n",
       "    .dataframe thead th {\n",
       "        text-align: right;\n",
       "    }\n",
       "</style>\n",
       "<table border=\"1\" class=\"dataframe\">\n",
       "  <thead>\n",
       "    <tr style=\"text-align: right;\">\n",
       "      <th></th>\n",
       "      <th>Total_Pages_Viewed</th>\n",
       "      <th>Total_Purchases</th>\n",
       "    </tr>\n",
       "  </thead>\n",
       "  <tbody>\n",
       "    <tr>\n",
       "      <th>Total_Pages_Viewed</th>\n",
       "      <td>1.00000</td>\n",
       "      <td>0.01363</td>\n",
       "    </tr>\n",
       "    <tr>\n",
       "      <th>Total_Purchases</th>\n",
       "      <td>0.01363</td>\n",
       "      <td>1.00000</td>\n",
       "    </tr>\n",
       "  </tbody>\n",
       "</table>\n",
       "</div>"
      ],
      "text/plain": [
       "                    Total_Pages_Viewed  Total_Purchases\n",
       "Total_Pages_Viewed             1.00000          0.01363\n",
       "Total_Purchases                0.01363          1.00000"
      ]
     },
     "execution_count": 16,
     "metadata": {},
     "output_type": "execute_result"
    }
   ],
   "source": [
    "page_purchase_corr = df[['Total_Pages_Viewed', 'Total_Purchases']].corr()\n",
    "page_purchase_corr"
   ]
  },
  {
   "cell_type": "markdown",
   "id": "ce77a160-bd03-48d2-bbc5-7e7718ba470d",
   "metadata": {},
   "source": [
    "#### Interpretation\n",
    "\n",
    "- **Correlation Value**: The correlation coefficient between `Total_Pages_Viewed` and `Total_Purchases` is **0.01363**.\n",
    "\n",
    "- **No Strong Relationship**: A correlation coefficient close to 0 indicates a very weak relationship between the number of pages viewed and the number of purchases. In this case, the value of 0.01363 suggests that there is almost no linear relationship between how many pages a user views and how many purchases they make.\n",
    "\n",
    "- **Hypothesis Confirmation**: The result supports the hypothesis that high page views do not necessarily lead to more purchases. Despite browsing many pages, the number of purchases remains largely unchanged, implying that page views alone do not effectively predict purchasing behavior.\n",
    "\n",
    "In summary, the data shows that increasing the number of pages viewed has minimal impact on the likelihood of making a purchase."
   ]
  },
  {
   "cell_type": "markdown",
   "id": "0b5e1913-4944-4051-858e-c17e64289d77",
   "metadata": {
    "jp-MarkdownHeadingCollapsed": true
   },
   "source": [
    "# Hypothesis 4: Browsing Too Long Leads to Fewer Purchases (\"Choice Overload\")"
   ]
  },
  {
   "cell_type": "code",
   "execution_count": 17,
   "id": "5547a182-4ffd-4ee4-a0e6-7bd9bb549f48",
   "metadata": {},
   "outputs": [
    {
     "data": {
      "text/plain": [
       "Browsing_Segment\n",
       "Short     2.400000\n",
       "Medium    2.442478\n",
       "Long      2.603175\n",
       "Name: Total_Purchases, dtype: float64"
      ]
     },
     "execution_count": 17,
     "metadata": {},
     "output_type": "execute_result"
    }
   ],
   "source": [
    "# Create browsing time segments and calculate the mean total purchases for each\n",
    "df['Browsing_Segment'] = pd.cut(df['Product_Browsing_Time'], bins=[0, 5, 15, 30], labels=['Short', 'Medium', 'Long'])\n",
    "browsing_group = df.groupby('Browsing_Segment')['Total_Purchases'].mean()\n",
    "browsing_group"
   ]
  },
  {
   "cell_type": "markdown",
   "id": "57bf7fb7-8ced-4ebc-a44c-557e856eeff5",
   "metadata": {},
   "source": [
    "#### Interpretation\n",
    "\n",
    "- **Trend Observed**: The average number of purchases increases with browsing time: 2.40 for Short, 2.44 for Medium, and 2.60 for Long.\n",
    "\n",
    "- **Contrary to Hypothesis**: The results do not support the hypothesis that longer browsing leads to fewer purchases. Instead, they suggest that users who browse longer tend to make more purchases.\n",
    "\n",
    "- **Choice Overload Not Evident**: The data does not show evidence of choice overload (where more browsing time leads to decision paralysis and fewer purchases). Instead, it indicates that more browsing time may actually be associated with a higher number of purchases.\n",
    "\n",
    "In summary, the analysis suggests that longer browsing times may lead to more purchases, contradicting the idea that too much browsing results in fewer purchases."
   ]
  },
  {
   "cell_type": "markdown",
   "id": "30fcc989-fc1a-4291-8db1-8039d90c5c9b",
   "metadata": {},
   "source": [
    "- **Actionable Step**: Streamline Product Choices\n",
    "  - Reduce the number of options presented to users to avoid overwhelming them."
   ]
  },
  {
   "cell_type": "markdown",
   "id": "9382ddec-2877-489c-9591-cd3f8a32c360",
   "metadata": {
    "jp-MarkdownHeadingCollapsed": true
   },
   "source": [
    "# Hypothesis 5: Customers from Certain Regions Purchase Less"
   ]
  },
  {
   "cell_type": "code",
   "execution_count": 18,
   "id": "58d6a2d5-6446-486d-853d-8ec31e845f82",
   "metadata": {},
   "outputs": [
    {
     "data": {
      "text/plain": [
       "Location\n",
       "Ahmedabad    2.451613\n",
       "Bangalore    2.409836\n",
       "Chennai      2.553571\n",
       "Delhi        2.728571\n",
       "Hyderabad    2.225806\n",
       "Kolkata      2.676056\n",
       "Mumbai       2.457627\n",
       "Pune         2.135593\n",
       "Name: Total_Purchases, dtype: float64"
      ]
     },
     "execution_count": 18,
     "metadata": {},
     "output_type": "execute_result"
    }
   ],
   "source": [
    "location_group = df.groupby('Location')['Total_Purchases'].mean()\n",
    "location_group"
   ]
  },
  {
   "cell_type": "markdown",
   "id": "fb420f51-947b-467e-84f2-5f3ed7e43fc6",
   "metadata": {},
   "source": [
    "#### Interpretation\n",
    "\n",
    "- **Regional Variations**: The average number of purchases varies by location. For example:\n",
    "  - **Delhi** has the highest average number of purchases (2.73).\n",
    "  - **Pune** has the lowest average number of purchases (2.14).\n",
    "\n",
    "- **Hypothesis Confirmation**: The hypothesis that customers from certain regions purchase less is supported by the data. Locations like Pune and Hyderabad show lower average purchases compared to other regions.\n",
    "\n",
    "- **Regional Influence**: The data suggests that geographical differences do impact purchasing behavior, with some regions having lower average purchases.\n",
    "\n",
    "In summary, the analysis confirms that the average number of purchases differs by location, indicating that customers from certain regions tend to purchase less on average."
   ]
  },
  {
   "cell_type": "markdown",
   "id": "631af722-1f38-4103-9b14-50405d5b9869",
   "metadata": {},
   "source": [
    "#### Why some regions have low purchase rate\n",
    "- To know the reason we have to drill deeper into other facts such as Economic Factors, Market Penetration, Product Availability, Regional Preferences, Competition, Logistics, and Delivery\n",
    "- Unfortunately, we do not have any information regarding those"
   ]
  },
  {
   "cell_type": "markdown",
   "id": "676fd0ee-48a3-4010-9f5e-5d14a6011a60",
   "metadata": {},
   "source": [
    "- **Actionable Step**: Targeted Marketing\n",
    "  - Tailor marketing strategies and promotions to regions with lower purchase rates to boost engagement.\n"
   ]
  },
  {
   "cell_type": "markdown",
   "id": "19ed5de4-70fd-47e1-89ed-58a954d23893",
   "metadata": {
    "jp-MarkdownHeadingCollapsed": true
   },
   "source": [
    "# Hypothesis 6: Device Type Influences Purchases"
   ]
  },
  {
   "cell_type": "code",
   "execution_count": 19,
   "id": "f9b455e8-8614-4af5-ab0a-8b2bb5edd69f",
   "metadata": {},
   "outputs": [
    {
     "data": {
      "text/plain": [
       "Device_Type\n",
       "Desktop    2.396226\n",
       "Mobile     2.533708\n",
       "Tablet     2.453988\n",
       "Name: Total_Purchases, dtype: float64"
      ]
     },
     "execution_count": 19,
     "metadata": {},
     "output_type": "execute_result"
    }
   ],
   "source": [
    "device_purchase_group = df.groupby('Device_Type')['Total_Purchases'].mean()\n",
    "device_purchase_group"
   ]
  },
  {
   "cell_type": "markdown",
   "id": "8b1cffde-d4c9-434c-a994-1a4ab9b3640f",
   "metadata": {},
   "source": [
    "#### Interpretation\n",
    "\n",
    "- **Device Influence**: The average number of purchases varies by device type:\n",
    "  - **Mobile** users have the highest average purchases (2.53).\n",
    "  - **Desktop** users have the lowest average purchases (2.40).\n",
    "  - **Tablet** users fall in between (2.45).\n",
    "\n",
    "- **Hypothesis Confirmation**: The data supports the hypothesis that device type influences purchasing behavior. Mobile users tend to make more purchases on average compared to users on other devices.\n",
    "\n",
    "- **Device Preferences**: The result indicates that users on different devices have varying purchasing behaviors, with mobile users showing a slight edge in making purchases.\n",
    "\n",
    "In summary, the analysis confirms that the type of device used influences the number of purchases, with mobile users generally making more purchases than desktop or tablet users."
   ]
  },
  {
   "cell_type": "markdown",
   "id": "eac9eef7-ffae-4352-828e-006bee11662c",
   "metadata": {
    "jp-MarkdownHeadingCollapsed": true
   },
   "source": [
    "# Hypothesis 7: Competitive Pressure in Certain Regions Leads to Fewer Purchases"
   ]
  },
  {
   "cell_type": "code",
   "execution_count": 20,
   "id": "416b64ef-79b6-4fdf-9ac6-d24da8f2e802",
   "metadata": {},
   "outputs": [
    {
     "data": {
      "text/html": [
       "<div>\n",
       "<style scoped>\n",
       "    .dataframe tbody tr th:only-of-type {\n",
       "        vertical-align: middle;\n",
       "    }\n",
       "\n",
       "    .dataframe tbody tr th {\n",
       "        vertical-align: top;\n",
       "    }\n",
       "\n",
       "    .dataframe thead th {\n",
       "        text-align: right;\n",
       "    }\n",
       "</style>\n",
       "<table border=\"1\" class=\"dataframe\">\n",
       "  <thead>\n",
       "    <tr style=\"text-align: right;\">\n",
       "      <th></th>\n",
       "      <th>Product_Browsing_Time</th>\n",
       "      <th>Total_Purchases</th>\n",
       "    </tr>\n",
       "    <tr>\n",
       "      <th>Location</th>\n",
       "      <th></th>\n",
       "      <th></th>\n",
       "    </tr>\n",
       "  </thead>\n",
       "  <tbody>\n",
       "    <tr>\n",
       "      <th>Ahmedabad</th>\n",
       "      <td>29.725806</td>\n",
       "      <td>2.451613</td>\n",
       "    </tr>\n",
       "    <tr>\n",
       "      <th>Bangalore</th>\n",
       "      <td>32.540984</td>\n",
       "      <td>2.409836</td>\n",
       "    </tr>\n",
       "    <tr>\n",
       "      <th>Chennai</th>\n",
       "      <td>27.142857</td>\n",
       "      <td>2.553571</td>\n",
       "    </tr>\n",
       "    <tr>\n",
       "      <th>Delhi</th>\n",
       "      <td>29.371429</td>\n",
       "      <td>2.728571</td>\n",
       "    </tr>\n",
       "    <tr>\n",
       "      <th>Hyderabad</th>\n",
       "      <td>33.322581</td>\n",
       "      <td>2.225806</td>\n",
       "    </tr>\n",
       "    <tr>\n",
       "      <th>Kolkata</th>\n",
       "      <td>33.436620</td>\n",
       "      <td>2.676056</td>\n",
       "    </tr>\n",
       "    <tr>\n",
       "      <th>Mumbai</th>\n",
       "      <td>30.423729</td>\n",
       "      <td>2.457627</td>\n",
       "    </tr>\n",
       "    <tr>\n",
       "      <th>Pune</th>\n",
       "      <td>29.338983</td>\n",
       "      <td>2.135593</td>\n",
       "    </tr>\n",
       "  </tbody>\n",
       "</table>\n",
       "</div>"
      ],
      "text/plain": [
       "           Product_Browsing_Time  Total_Purchases\n",
       "Location                                         \n",
       "Ahmedabad              29.725806         2.451613\n",
       "Bangalore              32.540984         2.409836\n",
       "Chennai                27.142857         2.553571\n",
       "Delhi                  29.371429         2.728571\n",
       "Hyderabad              33.322581         2.225806\n",
       "Kolkata                33.436620         2.676056\n",
       "Mumbai                 30.423729         2.457627\n",
       "Pune                   29.338983         2.135593"
      ]
     },
     "execution_count": 20,
     "metadata": {},
     "output_type": "execute_result"
    }
   ],
   "source": [
    "region_group = df.groupby('Location')[['Product_Browsing_Time', 'Total_Purchases']].mean()\n",
    "region_group"
   ]
  },
  {
   "cell_type": "markdown",
   "id": "09bda812-aecf-4bc4-b6b6-b1a2969b8b34",
   "metadata": {},
   "source": [
    "#### Interpretation\n",
    "\n",
    "- **Competitive Pressure Insight**: Locations with higher average product browsing times, such as Bangalore (32.54) and Hyderabad (33.32), generally have lower average total purchases, indicating potential competitive pressure. For instance:\n",
    "  - **Hyderabad** has the highest browsing time but the lowest average purchases (2.23).\n",
    "  - **Pune** has a relatively low browsing time and the lowest average purchases (2.14).\n",
    "\n",
    "- **Hypothesis Confirmation**: The data supports the hypothesis that competitive pressure in certain regions may lead to fewer purchases. Regions with higher browsing times and competitive pressure tend to show lower average purchase numbers.\n",
    "\n",
    "- **Competitive Influence**: This suggests that users might browse more in areas with more competition but make fewer purchases, potentially due to increased choices or decision fatigue.\n",
    "\n",
    "In summary, the analysis indicates that competitive pressure in some regions is associated with fewer purchases, supporting the hypothesis."
   ]
  },
  {
   "cell_type": "markdown",
   "id": "2eda7786-bc22-486f-9c64-8a039e9f38b2",
   "metadata": {},
   "source": [
    "- **Actionable Step**: Competitive Analysis\n",
    "  - Conduct a competitive analysis in regions with lower purchases to understand competitors’ strengths and weaknesses."
   ]
  },
  {
   "cell_type": "code",
   "execution_count": null,
   "id": "9298582f-773e-446a-a94e-a4cb999b6b10",
   "metadata": {},
   "outputs": [],
   "source": []
  },
  {
   "cell_type": "code",
   "execution_count": null,
   "id": "a9a2f1e3-1716-44df-b116-0ed80abfa327",
   "metadata": {},
   "outputs": [],
   "source": []
  }
 ],
 "metadata": {
  "kernelspec": {
   "display_name": "Python 3 (ipykernel)",
   "language": "python",
   "name": "python3"
  },
  "language_info": {
   "codemirror_mode": {
    "name": "ipython",
    "version": 3
   },
   "file_extension": ".py",
   "mimetype": "text/x-python",
   "name": "python",
   "nbconvert_exporter": "python",
   "pygments_lexer": "ipython3",
   "version": "3.11.7"
  }
 },
 "nbformat": 4,
 "nbformat_minor": 5
}
